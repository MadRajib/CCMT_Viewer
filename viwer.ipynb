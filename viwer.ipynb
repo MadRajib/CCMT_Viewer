{
 "cells": [
  {
   "cell_type": "code",
   "execution_count": 34,
   "id": "1a2c91ed-867b-4e45-b437-ff70e473e561",
   "metadata": {},
   "outputs": [],
   "source": [
    "from bs4 import BeautifulSoup\n",
    "import csv\n",
    "\n",
    "with open(\"data.html\") as fp:\n",
    "    soup = BeautifulSoup(fp, 'html.parser')\n",
    "    head_list = soup.thead.tr.find_all(\"th\")\n",
    "    body_list = soup.tbody.find_all(\"tr\")"
   ]
  },
  {
   "cell_type": "code",
   "execution_count": 35,
   "id": "cbc2cf38-63f2-41b1-aca5-141961315af7",
   "metadata": {},
   "outputs": [],
   "source": [
    "th_list = []\n",
    "for th in head_list:\n",
    "    str = th.find(\"a\").get_text().replace(\"▲▼\",\"\").strip()\n",
    "    th_list.append(str)"
   ]
  },
  {
   "cell_type": "code",
   "execution_count": 36,
   "id": "68aace39-396a-4db4-9a46-8c90e2720354",
   "metadata": {},
   "outputs": [],
   "source": [
    "tbody_t = []\n",
    "for tr in body_list:\n",
    "    tr_t = []\n",
    "    for td in tr: \n",
    "        txt = td.get_text().strip()\n",
    "        if len(txt) > 0 :\n",
    "            tr_t.append(txt)\n",
    "    tbody_t.append(tr_t)"
   ]
  },
  {
   "cell_type": "code",
   "execution_count": 37,
   "id": "bb350dda-1ced-4cc6-8816-d2b4772478b9",
   "metadata": {},
   "outputs": [],
   "source": [
    "with open('ccmt_data.csv', 'w', encoding='UTF8', newline='') as f:\n",
    "    writer = csv.writer(f)\n",
    "    # write the header\n",
    "    writer.writerow(th_list)\n",
    "    # write multiple rows\n",
    "    writer.writerows(tbody_t)"
   ]
  },
  {
   "cell_type": "code",
   "execution_count": null,
   "id": "492a8907-cb54-4823-8689-3723b76066ac",
   "metadata": {},
   "outputs": [],
   "source": []
  }
 ],
 "metadata": {
  "kernelspec": {
   "display_name": "Python 3.9.7 64-bit",
   "language": "python",
   "name": "python3"
  },
  "language_info": {
   "codemirror_mode": {
    "name": "ipython",
    "version": 3
   },
   "file_extension": ".py",
   "mimetype": "text/x-python",
   "name": "python",
   "nbconvert_exporter": "python",
   "pygments_lexer": "ipython3",
   "version": "3.9.7"
  },
  "vscode": {
   "interpreter": {
    "hash": "31f2aee4e71d21fbe5cf8b01ff0e069b9275f58929596ceb00d14d90e3e16cd6"
   }
  }
 },
 "nbformat": 4,
 "nbformat_minor": 5
}
